{
  "nbformat": 4,
  "nbformat_minor": 0,
  "metadata": {
    "colab": {
      "name": "Document from Vj",
      "provenance": [],
      "include_colab_link": true
    },
    "kernelspec": {
      "name": "python3",
      "display_name": "Python 3"
    }
  },
  "cells": [
    {
      "cell_type": "markdown",
      "metadata": {
        "id": "view-in-github",
        "colab_type": "text"
      },
      "source": [
        "<a href=\"https://colab.research.google.com/github/vjay-cyber/phython/blob/master/Document_from_Vj.ipynb\" target=\"_parent\"><img src=\"https://colab.research.google.com/assets/colab-badge.svg\" alt=\"Open In Colab\"/></a>"
      ]
    },
    {
      "cell_type": "code",
      "metadata": {
        "id": "izN_seEw86hU",
        "colab_type": "code",
        "colab": {}
      },
      "source": [
        "lower = int(input(\"Enter lower range:\"))"
      ],
      "execution_count": null,
      "outputs": []
    },
    {
      "cell_type": "code",
      "metadata": {
        "id": "MheV--z68K07",
        "colab_type": "code",
        "colab": {}
      },
      "source": [
        "upper = int(input(\"Enter upper range:\"))"
      ],
      "execution_count": null,
      "outputs": []
    },
    {
      "cell_type": "code",
      "metadata": {
        "id": "uzbJv8iK-Au4",
        "colab_type": "code",
        "colab": {}
      },
      "source": [
        ""
      ],
      "execution_count": null,
      "outputs": []
    },
    {
      "cell_type": "code",
      "metadata": {
        "id": "RxtDZqxT6MZo",
        "colab_type": "code",
        "colab": {}
      },
      "source": [
        ""
      ],
      "execution_count": null,
      "outputs": []
    },
    {
      "cell_type": "code",
      "metadata": {
        "id": "46M6fwXs6Pjg",
        "colab_type": "code",
        "colab": {}
      },
      "source": [
        "for num in range (lower, upper + 1):\n",
        "  if num > 1:\n",
        "    for i in range (2, num):\n",
        "        if (num % i) == 0:\n",
        "          break\n",
        "    else:\n",
        "      print(num)"
      ],
      "execution_count": null,
      "outputs": []
    },
    {
      "cell_type": "code",
      "metadata": {
        "id": "KBxl-mulHPlq",
        "colab_type": "code",
        "colab": {}
      },
      "source": [
        ""
      ],
      "execution_count": 2,
      "outputs": []
    },
    {
      "cell_type": "code",
      "metadata": {
        "id": "4AnWOE7fjmD3",
        "colab_type": "code",
        "colab": {}
      },
      "source": [
        "# Assignment 2,"
      ],
      "execution_count": 3,
      "outputs": []
    },
    {
      "cell_type": "code",
      "metadata": {
        "id": "mVorsJAzHYam",
        "colab_type": "code",
        "colab": {}
      },
      "source": [
        "altitude = int(input(\"Enter the altitude\"))\n",
        "if altitude >=5001:\n",
        "    print(\"Turn around and try later\")\n",
        "elif altitude <=1000:\n",
        "    print(\"Land and the plane\")\n",
        "else:\n",
        "    print(\"Come down to 1000 feet\")"
      ],
      "execution_count": null,
      "outputs": []
    },
    {
      "cell_type": "code",
      "metadata": {
        "id": "2FyBf88ekIu4",
        "colab_type": "code",
        "colab": {}
      },
      "source": [
        ""
      ],
      "execution_count": 4,
      "outputs": []
    }
  ]
}