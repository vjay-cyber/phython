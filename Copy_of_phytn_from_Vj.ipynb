{
  "nbformat": 4,
  "nbformat_minor": 0,
  "metadata": {
    "colab": {
      "name": "Copy of phytn from Vj",
      "provenance": [],
      "include_colab_link": true
    },
    "kernelspec": {
      "name": "python3",
      "display_name": "Python 3"
    }
  },
  "cells": [
    {
      "cell_type": "markdown",
      "metadata": {
        "id": "view-in-github",
        "colab_type": "text"
      },
      "source": [
        "<a href=\"https://colab.research.google.com/github/vjay-cyber/phython/blob/master/Copy_of_phytn_from_Vj.ipynb\" target=\"_parent\"><img src=\"https://colab.research.google.com/assets/colab-badge.svg\" alt=\"Open In Colab\"/></a>"
      ]
    },
    {
      "cell_type": "code",
      "metadata": {
        "id": "_BIVZIF546QX",
        "colab_type": "code",
        "colab": {
          "base_uri": "https://localhost:8080/",
          "height": 34
        },
        "outputId": "54930a3a-4867-4cf8-c761-5f1182b46794"
      },
      "source": [
        "print(\" vijay d\")"
      ],
      "execution_count": null,
      "outputs": [
        {
          "output_type": "stream",
          "text": [
            " vijay d\n"
          ],
          "name": "stdout"
        }
      ]
    },
    {
      "cell_type": "code",
      "metadata": {
        "id": "UGW3zNsP5fhx",
        "colab_type": "code",
        "colab": {}
      },
      "source": [
        "#list Fuctions"
      ],
      "execution_count": null,
      "outputs": []
    },
    {
      "cell_type": "code",
      "metadata": {
        "id": "QS7GLGMK5mTT",
        "colab_type": "code",
        "colab": {}
      },
      "source": [
        "lst=[\"Banglore\",\"123\",\"93.5\"]"
      ],
      "execution_count": null,
      "outputs": []
    },
    {
      "cell_type": "code",
      "metadata": {
        "id": "fTIUPEeo53ai",
        "colab_type": "code",
        "colab": {
          "base_uri": "https://localhost:8080/",
          "height": 34
        },
        "outputId": "097b9389-7d1e-4e5a-dd91-e7ef306e6c3e"
      },
      "source": [
        "print(lst)"
      ],
      "execution_count": null,
      "outputs": [
        {
          "output_type": "stream",
          "text": [
            "['Banglore', '123', '93.5']\n"
          ],
          "name": "stdout"
        }
      ]
    },
    {
      "cell_type": "code",
      "metadata": {
        "id": "gJ7udP0m55XC",
        "colab_type": "code",
        "colab": {}
      },
      "source": [
        "#append fuction"
      ],
      "execution_count": null,
      "outputs": []
    },
    {
      "cell_type": "code",
      "metadata": {
        "id": "RHysRqhS6D_u",
        "colab_type": "code",
        "colab": {}
      },
      "source": [
        "lst.append(\"karnataka\")"
      ],
      "execution_count": null,
      "outputs": []
    },
    {
      "cell_type": "code",
      "metadata": {
        "id": "p0R1bWa96K5h",
        "colab_type": "code",
        "colab": {
          "base_uri": "https://localhost:8080/",
          "height": 54
        },
        "outputId": "b8f7caff-8584-4e06-f2a7-4fa6c0d0410a"
      },
      "source": [
        "print(lst)"
      ],
      "execution_count": null,
      "outputs": [
        {
          "output_type": "stream",
          "text": [
            "['Banglore', '123', '93.5', 'karnataka']\n"
          ],
          "name": "stdout"
        }
      ]
    },
    {
      "cell_type": "code",
      "metadata": {
        "id": "rbKa6YlJ6Q29",
        "colab_type": "code",
        "colab": {}
      },
      "source": [
        "#insert fun"
      ],
      "execution_count": null,
      "outputs": []
    },
    {
      "cell_type": "code",
      "metadata": {
        "id": "9q2LNCUl6Uq7",
        "colab_type": "code",
        "colab": {}
      },
      "source": [
        "lst.insert(0,\"india\")"
      ],
      "execution_count": null,
      "outputs": []
    },
    {
      "cell_type": "code",
      "metadata": {
        "id": "2MLUovo46dmQ",
        "colab_type": "code",
        "colab": {
          "base_uri": "https://localhost:8080/",
          "height": 54
        },
        "outputId": "434e44e4-8957-4a79-ddf0-14778079a223"
      },
      "source": [
        "print(lst)"
      ],
      "execution_count": null,
      "outputs": [
        {
          "output_type": "stream",
          "text": [
            "['india', 'Banglore', '123', '93.5', 'karnataka']\n"
          ],
          "name": "stdout"
        }
      ]
    },
    {
      "cell_type": "code",
      "metadata": {
        "id": "2Lvpr7KH6rDz",
        "colab_type": "code",
        "colab": {}
      },
      "source": [
        "#remove fun"
      ],
      "execution_count": null,
      "outputs": []
    },
    {
      "cell_type": "code",
      "metadata": {
        "id": "7n1-PMiK6vRz",
        "colab_type": "code",
        "colab": {}
      },
      "source": [
        "lst.remove(\"123\")"
      ],
      "execution_count": null,
      "outputs": []
    },
    {
      "cell_type": "code",
      "metadata": {
        "id": "0x6YGmRP6zqe",
        "colab_type": "code",
        "colab": {
          "base_uri": "https://localhost:8080/",
          "height": 54
        },
        "outputId": "898c9c27-4c25-43f4-b502-605346f1184c"
      },
      "source": [
        "print(lst)"
      ],
      "execution_count": null,
      "outputs": [
        {
          "output_type": "stream",
          "text": [
            "['india', 'Banglore', '123', '93.5', 'karnataka']\n"
          ],
          "name": "stdout"
        }
      ]
    },
    {
      "cell_type": "code",
      "metadata": {
        "id": "hKPZ3gtD7sAC",
        "colab_type": "code",
        "colab": {}
      },
      "source": [
        "#pop fun without index"
      ],
      "execution_count": null,
      "outputs": []
    },
    {
      "cell_type": "code",
      "metadata": {
        "id": "xLwjvniE62bK",
        "colab_type": "code",
        "colab": {
          "base_uri": "https://localhost:8080/",
          "height": 35
        },
        "outputId": "37f52cda-f698-46c9-9ba9-11d5aeb40a87"
      },
      "source": [
        "lst.pop()"
      ],
      "execution_count": null,
      "outputs": [
        {
          "output_type": "execute_result",
          "data": {
            "application/vnd.google.colaboratory.intrinsic+json": {
              "type": "string"
            },
            "text/plain": [
              "'karnataka'"
            ]
          },
          "metadata": {
            "tags": []
          },
          "execution_count": 11
        }
      ]
    },
    {
      "cell_type": "code",
      "metadata": {
        "id": "sA6bqoQT7UGJ",
        "colab_type": "code",
        "colab": {
          "base_uri": "https://localhost:8080/",
          "height": 54
        },
        "outputId": "33311c43-b4cc-4387-a0cf-a7f90df91024"
      },
      "source": [
        "print(lst)"
      ],
      "execution_count": null,
      "outputs": [
        {
          "output_type": "stream",
          "text": [
            "['india', 'Banglore', '123', '93.5']\n"
          ],
          "name": "stdout"
        }
      ]
    },
    {
      "cell_type": "code",
      "metadata": {
        "id": "NBsaIw7D7gzH",
        "colab_type": "code",
        "colab": {}
      },
      "source": [
        " lst=[\"india\",\"Banglore\",\"123\",\"93.5\"]"
      ],
      "execution_count": null,
      "outputs": []
    },
    {
      "cell_type": "code",
      "metadata": {
        "id": "Dj4meJQq9Jqf",
        "colab_type": "code",
        "colab": {
          "base_uri": "https://localhost:8080/",
          "height": 54
        },
        "outputId": "3037be41-5e3a-474b-a302-eb0cb95070bc"
      },
      "source": [
        "print(lst)"
      ],
      "execution_count": null,
      "outputs": [
        {
          "output_type": "stream",
          "text": [
            "['india', 'Banglore', '123', '93.5']\n"
          ],
          "name": "stdout"
        }
      ]
    },
    {
      "cell_type": "code",
      "metadata": {
        "id": "JHq57Ku-9MQT",
        "colab_type": "code",
        "colab": {}
      },
      "source": [
        "#count fun"
      ],
      "execution_count": null,
      "outputs": []
    },
    {
      "cell_type": "code",
      "metadata": {
        "id": "zQCAMp0L9az8",
        "colab_type": "code",
        "colab": {
          "base_uri": "https://localhost:8080/",
          "height": 34
        },
        "outputId": "dca5dd1e-807c-4f88-b4cc-b700b824c5d2"
      },
      "source": [
        "print(lst.count(\"india\"))"
      ],
      "execution_count": null,
      "outputs": [
        {
          "output_type": "stream",
          "text": [
            "1\n"
          ],
          "name": "stdout"
        }
      ]
    },
    {
      "cell_type": "code",
      "metadata": {
        "id": "9nAWqm5D9gPe",
        "colab_type": "code",
        "colab": {}
      },
      "source": [
        "#index fun"
      ],
      "execution_count": null,
      "outputs": []
    },
    {
      "cell_type": "code",
      "metadata": {
        "id": "kbTIdaTY-_zS",
        "colab_type": "code",
        "colab": {
          "base_uri": "https://localhost:8080/",
          "height": 34
        },
        "outputId": "ae7a88c7-95a3-43ce-aa3f-781d20e2ed55"
      },
      "source": [
        "print(lst.index(\"123\"))"
      ],
      "execution_count": null,
      "outputs": [
        {
          "output_type": "stream",
          "text": [
            "2\n"
          ],
          "name": "stdout"
        }
      ]
    },
    {
      "cell_type": "code",
      "metadata": {
        "id": "dfIXbw0d_wOk",
        "colab_type": "code",
        "colab": {}
      },
      "source": [
        "# dictoanaries and its fun"
      ],
      "execution_count": null,
      "outputs": []
    },
    {
      "cell_type": "code",
      "metadata": {
        "id": "SMHiGncp_-YG",
        "colab_type": "code",
        "colab": {}
      },
      "source": [
        "dit = {\"name\": \"vijay\",\"RN\": \"20053258\",\"College\": \"KLE\"}"
      ],
      "execution_count": null,
      "outputs": []
    },
    {
      "cell_type": "code",
      "metadata": {
        "id": "uflZKOiAI7Lj",
        "colab_type": "code",
        "colab": {
          "base_uri": "https://localhost:8080/",
          "height": 54
        },
        "outputId": "3e483199-c5cd-4d2f-ff6a-60083693309d"
      },
      "source": [
        "dit"
      ],
      "execution_count": null,
      "outputs": [
        {
          "output_type": "execute_result",
          "data": {
            "text/plain": [
              "{'College': 'KLE', 'RN': '20053258', 'name': 'vijay'}"
            ]
          },
          "metadata": {
            "tags": []
          },
          "execution_count": 28
        }
      ]
    },
    {
      "cell_type": "code",
      "metadata": {
        "id": "jI0_8RJXJYDo",
        "colab_type": "code",
        "colab": {}
      },
      "source": [
        "#retrive a value"
      ],
      "execution_count": null,
      "outputs": []
    },
    {
      "cell_type": "code",
      "metadata": {
        "id": "VtpM8u2NJAIo",
        "colab_type": "code",
        "colab": {
          "base_uri": "https://localhost:8080/",
          "height": 35
        },
        "outputId": "59a8d5dc-8334-47f3-ef27-a2314c0e3301"
      },
      "source": [
        "dit.get(\"RN\")"
      ],
      "execution_count": null,
      "outputs": [
        {
          "output_type": "execute_result",
          "data": {
            "application/vnd.google.colaboratory.intrinsic+json": {
              "type": "string"
            },
            "text/plain": [
              "'20053258'"
            ]
          },
          "metadata": {
            "tags": []
          },
          "execution_count": 31
        }
      ]
    },
    {
      "cell_type": "code",
      "metadata": {
        "id": "Av1JCZCUJqn7",
        "colab_type": "code",
        "colab": {}
      },
      "source": [
        "#add item"
      ],
      "execution_count": null,
      "outputs": []
    },
    {
      "cell_type": "code",
      "metadata": {
        "id": "2sA7adrfKv38",
        "colab_type": "code",
        "colab": {}
      },
      "source": [
        "dit[\"location\"]: \"banglore\""
      ],
      "execution_count": null,
      "outputs": []
    },
    {
      "cell_type": "code",
      "metadata": {
        "id": "_crWxCsbLRi9",
        "colab_type": "code",
        "colab": {
          "base_uri": "https://localhost:8080/",
          "height": 54
        },
        "outputId": "68e35d51-47e8-4e51-a913-e10f9edb513e"
      },
      "source": [
        "dit"
      ],
      "execution_count": null,
      "outputs": [
        {
          "output_type": "execute_result",
          "data": {
            "text/plain": [
              "{'College': 'KLE', 'RN': '20053258', 'name': 'vijay'}"
            ]
          },
          "metadata": {
            "tags": []
          },
          "execution_count": 34
        }
      ]
    },
    {
      "cell_type": "code",
      "metadata": {
        "id": "33gNjlGqLWG9",
        "colab_type": "code",
        "colab": {}
      },
      "source": [
        " \n",
        "#dictionary funtions"
      ],
      "execution_count": null,
      "outputs": []
    },
    {
      "cell_type": "code",
      "metadata": {
        "id": "m1PKvV5MXFz1",
        "colab_type": "code",
        "colab": {}
      },
      "source": [
        "dit={\"1\":\"2\",\"3\":\"4\"}"
      ],
      "execution_count": null,
      "outputs": []
    },
    {
      "cell_type": "code",
      "metadata": {
        "id": "UZwMI-y-XQio",
        "colab_type": "code",
        "colab": {
          "base_uri": "https://localhost:8080/",
          "height": 34
        },
        "outputId": "4391646d-a63a-4dcb-b301-f4c31a8adc11"
      },
      "source": [
        "dit"
      ],
      "execution_count": null,
      "outputs": [
        {
          "output_type": "execute_result",
          "data": {
            "text/plain": [
              "{'1': '2', '3': '4'}"
            ]
          },
          "metadata": {
            "tags": []
          },
          "execution_count": 38
        }
      ]
    },
    {
      "cell_type": "code",
      "metadata": {
        "id": "_igBYmv4YXgb",
        "colab_type": "code",
        "colab": {}
      },
      "source": [
        ""
      ],
      "execution_count": null,
      "outputs": []
    },
    {
      "cell_type": "code",
      "metadata": {
        "id": "JtHCW0AcYTWH",
        "colab_type": "code",
        "colab": {}
      },
      "source": [
        "#add item to dict"
      ],
      "execution_count": null,
      "outputs": []
    },
    {
      "cell_type": "code",
      "metadata": {
        "id": "79Mo5N29XZKp",
        "colab_type": "code",
        "colab": {}
      },
      "source": [
        "dit[\"5\"]=\"6\""
      ],
      "execution_count": null,
      "outputs": []
    },
    {
      "cell_type": "code",
      "metadata": {
        "id": "oZKQloZzXjhT",
        "colab_type": "code",
        "colab": {
          "base_uri": "https://localhost:8080/",
          "height": 34
        },
        "outputId": "a68b659d-bbe0-4a4a-d880-9224b680564b"
      },
      "source": [
        "dit"
      ],
      "execution_count": null,
      "outputs": [
        {
          "output_type": "execute_result",
          "data": {
            "text/plain": [
              "{'1': '2', '3': '4', '5': '6'}"
            ]
          },
          "metadata": {
            "tags": []
          },
          "execution_count": 42
        }
      ]
    },
    {
      "cell_type": "code",
      "metadata": {
        "id": "0ffugHV1XlMH",
        "colab_type": "code",
        "colab": {}
      },
      "source": [
        "# retrive value from dict"
      ],
      "execution_count": null,
      "outputs": []
    },
    {
      "cell_type": "code",
      "metadata": {
        "id": "VeYECh0zYfxW",
        "colab_type": "code",
        "colab": {
          "base_uri": "https://localhost:8080/",
          "height": 35
        },
        "outputId": "9fbd3db9-9522-493e-8e65-7c5ba1b52ae2"
      },
      "source": [
        "dit.get(\"3\")"
      ],
      "execution_count": null,
      "outputs": [
        {
          "output_type": "execute_result",
          "data": {
            "application/vnd.google.colaboratory.intrinsic+json": {
              "type": "string"
            },
            "text/plain": [
              "'4'"
            ]
          },
          "metadata": {
            "tags": []
          },
          "execution_count": 46
        }
      ]
    },
    {
      "cell_type": "code",
      "metadata": {
        "id": "ZhD47fkFYl6M",
        "colab_type": "code",
        "colab": {}
      },
      "source": [
        "#Update a particular item of dict"
      ],
      "execution_count": null,
      "outputs": []
    },
    {
      "cell_type": "code",
      "metadata": {
        "id": "Xl2S6gV6gchU",
        "colab_type": "code",
        "colab": {}
      },
      "source": [
        "dit={\"1\":\"2\",\"3\":\"4\"}"
      ],
      "execution_count": null,
      "outputs": []
    },
    {
      "cell_type": "code",
      "metadata": {
        "id": "DgIATnemghbo",
        "colab_type": "code",
        "colab": {
          "base_uri": "https://localhost:8080/",
          "height": 34
        },
        "outputId": "7a491490-0dd5-4f9a-eeec-d1c17be664e2"
      },
      "source": [
        "dit"
      ],
      "execution_count": null,
      "outputs": [
        {
          "output_type": "execute_result",
          "data": {
            "text/plain": [
              "{'1': '2', '3': '4'}"
            ]
          },
          "metadata": {
            "tags": []
          },
          "execution_count": 49
        }
      ]
    },
    {
      "cell_type": "code",
      "metadata": {
        "id": "fci8Z8KQY2H5",
        "colab_type": "code",
        "colab": {}
      },
      "source": [
        "dit[\"1\"]=\"10\""
      ],
      "execution_count": null,
      "outputs": []
    },
    {
      "cell_type": "code",
      "metadata": {
        "id": "jZi_Hl5HY73D",
        "colab_type": "code",
        "colab": {
          "base_uri": "https://localhost:8080/",
          "height": 34
        },
        "outputId": "2faf7320-04bd-4aeb-8e25-e10e836d23d1"
      },
      "source": [
        "print(dit)"
      ],
      "execution_count": null,
      "outputs": [
        {
          "output_type": "stream",
          "text": [
            "{'1': '10', '3': '4'}\n"
          ],
          "name": "stdout"
        }
      ]
    },
    {
      "cell_type": "code",
      "metadata": {
        "id": "vIIXwtWBaVgU",
        "colab_type": "code",
        "colab": {}
      },
      "source": [
        "#delete an item from dict"
      ],
      "execution_count": null,
      "outputs": []
    },
    {
      "cell_type": "code",
      "metadata": {
        "id": "DaLKInjwap19",
        "colab_type": "code",
        "colab": {}
      },
      "source": [
        "del dit[\"3\"]"
      ],
      "execution_count": null,
      "outputs": []
    },
    {
      "cell_type": "code",
      "metadata": {
        "id": "gfuYJimDayu2",
        "colab_type": "code",
        "colab": {
          "base_uri": "https://localhost:8080/",
          "height": 34
        },
        "outputId": "6f1354d5-956b-4b45-ae33-bf7872a2fef3"
      },
      "source": [
        "print(dit)"
      ],
      "execution_count": null,
      "outputs": [
        {
          "output_type": "stream",
          "text": [
            "{'1': '10'}\n"
          ],
          "name": "stdout"
        }
      ]
    },
    {
      "cell_type": "code",
      "metadata": {
        "id": "nlHx8rVDbIcy",
        "colab_type": "code",
        "colab": {}
      },
      "source": [
        "# removing an orbitary item"
      ],
      "execution_count": null,
      "outputs": []
    },
    {
      "cell_type": "code",
      "metadata": {
        "id": "DpEXlLU0efNU",
        "colab_type": "code",
        "colab": {}
      },
      "source": [
        "dit={\"1\":\"2\",\"3\":\"4\",\"x\":\"y\"}"
      ],
      "execution_count": null,
      "outputs": []
    },
    {
      "cell_type": "code",
      "metadata": {
        "id": "vZIhht18ekE7",
        "colab_type": "code",
        "colab": {
          "base_uri": "https://localhost:8080/",
          "height": 34
        },
        "outputId": "4a2776d6-5d13-456c-dc54-5d543f527483"
      },
      "source": [
        "print(dit.popitem())"
      ],
      "execution_count": null,
      "outputs": [
        {
          "output_type": "stream",
          "text": [
            "('1', '10')\n"
          ],
          "name": "stdout"
        }
      ]
    },
    {
      "cell_type": "code",
      "metadata": {
        "id": "jd_dTsLVe_vF",
        "colab_type": "code",
        "colab": {
          "base_uri": "https://localhost:8080/",
          "height": 34
        },
        "outputId": "cc654a2e-bc2b-4aaf-f524-b93602008c45"
      },
      "source": [
        "print(dit)"
      ],
      "execution_count": null,
      "outputs": [
        {
          "output_type": "stream",
          "text": [
            "{}\n"
          ],
          "name": "stdout"
        }
      ]
    },
    {
      "cell_type": "code",
      "metadata": {
        "id": "pIx6wSEBzKBP",
        "colab_type": "code",
        "colab": {}
      },
      "source": [
        ""
      ],
      "execution_count": null,
      "outputs": []
    },
    {
      "cell_type": "markdown",
      "metadata": {
        "id": "Y8M7hwljziwC",
        "colab_type": "text"
      },
      "source": [
        "# Set and its different section\n"
      ]
    },
    {
      "cell_type": "code",
      "metadata": {
        "id": "ICHlRtI2zos_",
        "colab_type": "code",
        "colab": {}
      },
      "source": [
        "st = {10, 20, 20, 30, 40, \"vijay\", 92.7}"
      ],
      "execution_count": null,
      "outputs": []
    },
    {
      "cell_type": "code",
      "metadata": {
        "id": "H-4xNjIL0RuV",
        "colab_type": "code",
        "colab": {
          "base_uri": "https://localhost:8080/",
          "height": 34
        },
        "outputId": "e37f82d2-1101-4895-cdbf-85a6f020ed26"
      },
      "source": [
        "print(st)"
      ],
      "execution_count": null,
      "outputs": [
        {
          "output_type": "stream",
          "text": [
            "{40, 10, 'vijay', 20, 92.7, 30}\n"
          ],
          "name": "stdout"
        }
      ]
    },
    {
      "cell_type": "code",
      "metadata": {
        "id": "SeeFrBN-0U-E",
        "colab_type": "code",
        "colab": {}
      },
      "source": [
        "#1.adding an element"
      ],
      "execution_count": null,
      "outputs": []
    },
    {
      "cell_type": "code",
      "metadata": {
        "id": "XmLrc3-u06r6",
        "colab_type": "code",
        "colab": {}
      },
      "source": [
        "st.add(50)"
      ],
      "execution_count": null,
      "outputs": []
    },
    {
      "cell_type": "code",
      "metadata": {
        "id": "UFww6QjO0_B4",
        "colab_type": "code",
        "colab": {
          "base_uri": "https://localhost:8080/",
          "height": 54
        },
        "outputId": "55f82605-d77f-4137-fcfd-1a893ea84e92"
      },
      "source": [
        "print(st)"
      ],
      "execution_count": null,
      "outputs": [
        {
          "output_type": "stream",
          "text": [
            "{40, 10, 'vijay', 50, 20, 92.7, 30}\n"
          ],
          "name": "stdout"
        }
      ]
    },
    {
      "cell_type": "code",
      "metadata": {
        "id": "TTToqJnh1BPo",
        "colab_type": "code",
        "colab": {}
      },
      "source": [
        "#2.updating set"
      ],
      "execution_count": null,
      "outputs": []
    },
    {
      "cell_type": "code",
      "metadata": {
        "id": "0PwBlQgv1SQV",
        "colab_type": "code",
        "colab": {}
      },
      "source": [
        "st.update([30,60,\"letsupgrade\"])"
      ],
      "execution_count": null,
      "outputs": []
    },
    {
      "cell_type": "code",
      "metadata": {
        "id": "Ww244bSM15mS",
        "colab_type": "code",
        "colab": {
          "base_uri": "https://localhost:8080/",
          "height": 54
        },
        "outputId": "0887f1b9-2ce4-433d-f155-fb16c9036f9a"
      },
      "source": [
        "print(st)"
      ],
      "execution_count": null,
      "outputs": [
        {
          "output_type": "stream",
          "text": [
            "{40, 10, 'vijay', 60, 'letsupgrade', 50, 20, 92.7, 30}\n"
          ],
          "name": "stdout"
        }
      ]
    },
    {
      "cell_type": "code",
      "metadata": {
        "id": "ItmsNYFZ2Vln",
        "colab_type": "code",
        "colab": {}
      },
      "source": [
        "#3.discard an element"
      ],
      "execution_count": null,
      "outputs": []
    },
    {
      "cell_type": "code",
      "metadata": {
        "id": "-zCY1Jy72eRZ",
        "colab_type": "code",
        "colab": {}
      },
      "source": [
        "st.discard(40)"
      ],
      "execution_count": null,
      "outputs": []
    },
    {
      "cell_type": "code",
      "metadata": {
        "id": "mvTVcnJV2qt2",
        "colab_type": "code",
        "colab": {
          "base_uri": "https://localhost:8080/",
          "height": 54
        },
        "outputId": "0552a377-3810-4677-fe71-b208bab9ffc0"
      },
      "source": [
        "print(st)"
      ],
      "execution_count": null,
      "outputs": [
        {
          "output_type": "stream",
          "text": [
            "{10, 'vijay', 60, 'letsupgrade', 50, 20, 92.7, 30}\n"
          ],
          "name": "stdout"
        }
      ]
    },
    {
      "cell_type": "code",
      "metadata": {
        "id": "zkf-4KOG2sYK",
        "colab_type": "code",
        "colab": {}
      },
      "source": [
        "#4.intersection of set"
      ],
      "execution_count": null,
      "outputs": []
    },
    {
      "cell_type": "code",
      "metadata": {
        "id": "oDW7yL5P3OME",
        "colab_type": "code",
        "colab": {}
      },
      "source": [
        "stA = { 3, 4, 5}"
      ],
      "execution_count": null,
      "outputs": []
    },
    {
      "cell_type": "code",
      "metadata": {
        "id": "jKPkgAoK3emP",
        "colab_type": "code",
        "colab": {}
      },
      "source": [
        "stB = {5, 6, 7}"
      ],
      "execution_count": null,
      "outputs": []
    },
    {
      "cell_type": "code",
      "metadata": {
        "id": "jJF_-pj3305W",
        "colab_type": "code",
        "colab": {
          "base_uri": "https://localhost:8080/",
          "height": 34
        },
        "outputId": "2c510d8e-a407-400f-f808-8741cff439a7"
      },
      "source": [
        "stA.intersection(stB)"
      ],
      "execution_count": null,
      "outputs": [
        {
          "output_type": "execute_result",
          "data": {
            "text/plain": [
              "{5}"
            ]
          },
          "metadata": {
            "tags": []
          },
          "execution_count": 73
        }
      ]
    },
    {
      "cell_type": "code",
      "metadata": {
        "id": "-WYbgClL6n9T",
        "colab_type": "code",
        "colab": {}
      },
      "source": [
        "#5.symmetric difference"
      ],
      "execution_count": null,
      "outputs": []
    },
    {
      "cell_type": "code",
      "metadata": {
        "id": "LscQqOk94ZB5",
        "colab_type": "code",
        "colab": {
          "base_uri": "https://localhost:8080/",
          "height": 34
        },
        "outputId": "f56bfc5b-bb0a-4b38-fe40-643c2a63ebfc"
      },
      "source": [
        "print(stA ^ stB)"
      ],
      "execution_count": null,
      "outputs": [
        {
          "output_type": "stream",
          "text": [
            "{3, 4, 6, 7}\n"
          ],
          "name": "stdout"
        }
      ]
    },
    {
      "cell_type": "code",
      "metadata": {
        "id": "N9tpEnuO6ltI",
        "colab_type": "code",
        "colab": {}
      },
      "source": [
        ""
      ],
      "execution_count": null,
      "outputs": []
    },
    {
      "cell_type": "code",
      "metadata": {
        "id": "2UXC8aOl8Egh",
        "colab_type": "code",
        "colab": {}
      },
      "source": [
        ""
      ],
      "execution_count": null,
      "outputs": []
    },
    {
      "cell_type": "markdown",
      "metadata": {
        "id": "Z9fIYIxy8Kcj",
        "colab_type": "text"
      },
      "source": [
        "# tuple and its fucntions"
      ]
    },
    {
      "cell_type": "code",
      "metadata": {
        "id": "oxcTNVS18Rd9",
        "colab_type": "code",
        "colab": {}
      },
      "source": [
        "tuple = (\"vijay\", 123, 50,)"
      ],
      "execution_count": null,
      "outputs": []
    },
    {
      "cell_type": "code",
      "metadata": {
        "id": "RV4jSxyT-Okc",
        "colab_type": "code",
        "colab": {}
      },
      "source": [
        "#1.indexing"
      ],
      "execution_count": null,
      "outputs": []
    },
    {
      "cell_type": "code",
      "metadata": {
        "id": "OhZyMQB2_ZB7",
        "colab_type": "code",
        "colab": {
          "base_uri": "https://localhost:8080/",
          "height": 34
        },
        "outputId": "ec0be736-f68b-45b0-dc39-b7c1d05a65e5"
      },
      "source": [
        "tuple"
      ],
      "execution_count": null,
      "outputs": [
        {
          "output_type": "execute_result",
          "data": {
            "text/plain": [
              "('vijay', 123, 50)"
            ]
          },
          "metadata": {
            "tags": []
          },
          "execution_count": 79
        }
      ]
    },
    {
      "cell_type": "code",
      "metadata": {
        "id": "mS34hYGDA6uS",
        "colab_type": "code",
        "colab": {
          "base_uri": "https://localhost:8080/",
          "height": 34
        },
        "outputId": "c2ea9c4b-e99d-4ad8-b42e-b265b6e51636"
      },
      "source": [
        "print(tuple.index(50))"
      ],
      "execution_count": null,
      "outputs": [
        {
          "output_type": "stream",
          "text": [
            "2\n"
          ],
          "name": "stdout"
        }
      ]
    },
    {
      "cell_type": "code",
      "metadata": {
        "id": "dmabeg5lBWjD",
        "colab_type": "code",
        "colab": {}
      },
      "source": [
        "#2.slicing"
      ],
      "execution_count": null,
      "outputs": []
    },
    {
      "cell_type": "code",
      "metadata": {
        "id": "VafDMxLnB1bV",
        "colab_type": "code",
        "colab": {}
      },
      "source": [
        "tuple = (\"vijay\", 123, 50, 3, 4, 5, 6)"
      ],
      "execution_count": null,
      "outputs": []
    },
    {
      "cell_type": "code",
      "metadata": {
        "id": "16D5_eR1C5-5",
        "colab_type": "code",
        "colab": {
          "base_uri": "https://localhost:8080/",
          "height": 34
        },
        "outputId": "a353ba2d-5d30-4b0d-9841-85e90620b9ae"
      },
      "source": [
        "print(tuple[1:3])"
      ],
      "execution_count": null,
      "outputs": [
        {
          "output_type": "stream",
          "text": [
            "(123, 50)\n"
          ],
          "name": "stdout"
        }
      ]
    },
    {
      "cell_type": "code",
      "metadata": {
        "id": "uqfAUEvhDGjB",
        "colab_type": "code",
        "colab": {}
      },
      "source": [
        "#3 negative slicing"
      ],
      "execution_count": null,
      "outputs": []
    },
    {
      "cell_type": "code",
      "metadata": {
        "id": "DhUaMefkES5e",
        "colab_type": "code",
        "colab": {
          "base_uri": "https://localhost:8080/",
          "height": 34
        },
        "outputId": "6adaa990-73cc-4bc7-dcbb-6e1b2e30eef7"
      },
      "source": [
        "print(tuple[-4:-2])"
      ],
      "execution_count": null,
      "outputs": [
        {
          "output_type": "stream",
          "text": [
            "(3, 4)\n"
          ],
          "name": "stdout"
        }
      ]
    },
    {
      "cell_type": "code",
      "metadata": {
        "id": "bHqLa2mXEcDP",
        "colab_type": "code",
        "colab": {}
      },
      "source": [
        "#4 reassigning tuple"
      ],
      "execution_count": null,
      "outputs": []
    },
    {
      "cell_type": "code",
      "metadata": {
        "id": "1bzdi4kvFLMo",
        "colab_type": "code",
        "colab": {}
      },
      "source": [
        "tuple = (\"a\", \"r\", \"b\", [8, 9])"
      ],
      "execution_count": null,
      "outputs": []
    },
    {
      "cell_type": "code",
      "metadata": {
        "id": "6eiwHAUzFdYT",
        "colab_type": "code",
        "colab": {
          "base_uri": "https://localhost:8080/",
          "height": 34
        },
        "outputId": "b5b8c3f6-9db7-4185-c44d-691b96ec0f41"
      },
      "source": [
        "print(tuple)"
      ],
      "execution_count": null,
      "outputs": [
        {
          "output_type": "stream",
          "text": [
            "('a', 'r', 'b', [8, 9])\n"
          ],
          "name": "stdout"
        }
      ]
    },
    {
      "cell_type": "code",
      "metadata": {
        "id": "Hobce88yFfgQ",
        "colab_type": "code",
        "colab": {}
      },
      "source": [
        "tuple[3][1] = 2"
      ],
      "execution_count": null,
      "outputs": []
    },
    {
      "cell_type": "code",
      "metadata": {
        "id": "hSqdPMORF2Nz",
        "colab_type": "code",
        "colab": {
          "base_uri": "https://localhost:8080/",
          "height": 34
        },
        "outputId": "d5cc0791-6db2-4417-b5f8-a220c34648df"
      },
      "source": [
        "print(tuple)"
      ],
      "execution_count": null,
      "outputs": [
        {
          "output_type": "stream",
          "text": [
            "('a', 'r', 'b', [8, 2])\n"
          ],
          "name": "stdout"
        }
      ]
    },
    {
      "cell_type": "code",
      "metadata": {
        "id": "X_UGopWJF-9K",
        "colab_type": "code",
        "colab": {}
      },
      "source": [
        ""
      ],
      "execution_count": null,
      "outputs": []
    },
    {
      "cell_type": "code",
      "metadata": {
        "id": "eYQPQE-oGFb1",
        "colab_type": "code",
        "colab": {}
      },
      "source": [
        "#5 membership test i tuple function"
      ],
      "execution_count": null,
      "outputs": []
    },
    {
      "cell_type": "code",
      "metadata": {
        "id": "FyjCNZ3qGiz-",
        "colab_type": "code",
        "colab": {
          "base_uri": "https://localhost:8080/",
          "height": 34
        },
        "outputId": "6fd3bd12-0cf0-401a-a3fb-09e5bb83affd"
      },
      "source": [
        "print(\"b\" in tuple)"
      ],
      "execution_count": null,
      "outputs": [
        {
          "output_type": "stream",
          "text": [
            "True\n"
          ],
          "name": "stdout"
        }
      ]
    },
    {
      "cell_type": "code",
      "metadata": {
        "id": "8KHqL8YQGwoK",
        "colab_type": "code",
        "colab": {}
      },
      "source": [
        ""
      ],
      "execution_count": null,
      "outputs": []
    },
    {
      "cell_type": "markdown",
      "metadata": {
        "id": "nvlicyn8G6vD",
        "colab_type": "text"
      },
      "source": [
        "#Strings and its fun"
      ]
    },
    {
      "cell_type": "code",
      "metadata": {
        "id": "GoyYbl-WHAPI",
        "colab_type": "code",
        "colab": {}
      },
      "source": [
        "str1 = \"hello\"\n"
      ],
      "execution_count": null,
      "outputs": []
    },
    {
      "cell_type": "code",
      "metadata": {
        "id": "zaZCDv0eIii2",
        "colab_type": "code",
        "colab": {}
      },
      "source": [
        "str2 = \"welcome to letsupgrade\"\n",
        "\n"
      ],
      "execution_count": null,
      "outputs": []
    },
    {
      "cell_type": "code",
      "metadata": {
        "id": "Om_0j25UPR-s",
        "colab_type": "code",
        "colab": {}
      },
      "source": [
        "str3 = \"all d best\""
      ],
      "execution_count": null,
      "outputs": []
    },
    {
      "cell_type": "code",
      "metadata": {
        "id": "8se1jQMpJlHt",
        "colab_type": "code",
        "colab": {}
      },
      "source": [
        "#1 index"
      ],
      "execution_count": null,
      "outputs": []
    },
    {
      "cell_type": "code",
      "metadata": {
        "id": "w9bpknrQIl9W",
        "colab_type": "code",
        "colab": {
          "base_uri": "https://localhost:8080/",
          "height": 34
        },
        "outputId": "d0ba43bc-e627-444d-9b44-39d48ef7e186"
      },
      "source": [
        "str1.index(\"e\")"
      ],
      "execution_count": null,
      "outputs": [
        {
          "output_type": "execute_result",
          "data": {
            "text/plain": [
              "1"
            ]
          },
          "metadata": {
            "tags": []
          },
          "execution_count": 109
        }
      ]
    },
    {
      "cell_type": "code",
      "metadata": {
        "id": "StJ6xq4SJbvu",
        "colab_type": "code",
        "colab": {}
      },
      "source": [
        "#2 Swapcase"
      ],
      "execution_count": null,
      "outputs": []
    },
    {
      "cell_type": "code",
      "metadata": {
        "id": "4gVy7ccWKN1W",
        "colab_type": "code",
        "colab": {
          "base_uri": "https://localhost:8080/",
          "height": 35
        },
        "outputId": "9092d325-3fcf-4ea1-bdf3-35c1c72f8c06"
      },
      "source": [
        "str2.format(\"e\")"
      ],
      "execution_count": null,
      "outputs": [
        {
          "output_type": "execute_result",
          "data": {
            "application/vnd.google.colaboratory.intrinsic+json": {
              "type": "string"
            },
            "text/plain": [
              "'welcome to letsupgrade'"
            ]
          },
          "metadata": {
            "tags": []
          },
          "execution_count": 111
        }
      ]
    },
    {
      "cell_type": "code",
      "metadata": {
        "id": "4EuDBMFaKj2W",
        "colab_type": "code",
        "colab": {
          "base_uri": "https://localhost:8080/",
          "height": 34
        },
        "outputId": "dffac299-5e8d-4baa-88eb-fc01a1546c50"
      },
      "source": [
        "print(str2.swapcase())"
      ],
      "execution_count": null,
      "outputs": [
        {
          "output_type": "stream",
          "text": [
            "WELCOME TO LETSUPGRADE\n"
          ],
          "name": "stdout"
        }
      ]
    },
    {
      "cell_type": "code",
      "metadata": {
        "id": "X4X1eGbpLmBg",
        "colab_type": "code",
        "colab": {}
      },
      "source": [
        "#3 lenth of the string"
      ],
      "execution_count": null,
      "outputs": []
    },
    {
      "cell_type": "code",
      "metadata": {
        "id": "S4tKcOn6M0Vw",
        "colab_type": "code",
        "colab": {
          "base_uri": "https://localhost:8080/",
          "height": 34
        },
        "outputId": "9cba7e4e-4d41-444f-9741-acd52168057b"
      },
      "source": [
        "print(len(str2))"
      ],
      "execution_count": null,
      "outputs": [
        {
          "output_type": "stream",
          "text": [
            "22\n"
          ],
          "name": "stdout"
        }
      ]
    },
    {
      "cell_type": "code",
      "metadata": {
        "id": "5OEyvyzWM-dh",
        "colab_type": "code",
        "colab": {}
      },
      "source": [
        "#4 capitalization of string"
      ],
      "execution_count": null,
      "outputs": []
    },
    {
      "cell_type": "code",
      "metadata": {
        "id": "mlFvfnw4NVFA",
        "colab_type": "code",
        "colab": {
          "base_uri": "https://localhost:8080/",
          "height": 34
        },
        "outputId": "935aee6e-97aa-4ccf-f106-0d7e67751965"
      },
      "source": [
        "print(str1.capitalize())"
      ],
      "execution_count": null,
      "outputs": [
        {
          "output_type": "stream",
          "text": [
            "Hello\n"
          ],
          "name": "stdout"
        }
      ]
    },
    {
      "cell_type": "code",
      "metadata": {
        "id": "5fiEwT2uNbdp",
        "colab_type": "code",
        "colab": {}
      },
      "source": [
        "# 5 finding max alphatecal character in strings"
      ],
      "execution_count": null,
      "outputs": []
    },
    {
      "cell_type": "code",
      "metadata": {
        "id": "kUayFpDHOVs8",
        "colab_type": "code",
        "colab": {
          "base_uri": "https://localhost:8080/",
          "height": 34
        },
        "outputId": "63b93cdd-f1c2-4ffa-c8cb-da52b2d41dac"
      },
      "source": [
        "print(str3.lower())"
      ],
      "execution_count": null,
      "outputs": [
        {
          "output_type": "stream",
          "text": [
            "all d best\n"
          ],
          "name": "stdout"
        }
      ]
    },
    {
      "cell_type": "code",
      "metadata": {
        "id": "Em4LMruEOjlH",
        "colab_type": "code",
        "colab": {}
      },
      "source": [
        ""
      ],
      "execution_count": null,
      "outputs": []
    }
  ]
}